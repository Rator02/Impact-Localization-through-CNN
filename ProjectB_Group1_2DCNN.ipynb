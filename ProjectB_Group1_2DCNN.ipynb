{
 "cells": [
  {
   "cell_type": "code",
   "execution_count": 1,
   "id": "4cd54cc7",
   "metadata": {},
   "outputs": [],
   "source": [
    "import numpy as np\n",
    "import pandas as pd\n",
    "from mpl_toolkits import mplot3d\n",
    "import matplotlib.pyplot as plt\n",
    "from matplotlib import cm\n",
    "import os\n",
    "import glob\n",
    "import re"
   ]
  },
  {
   "cell_type": "code",
   "execution_count": 2,
   "id": "d62556bb",
   "metadata": {},
   "outputs": [],
   "source": [
    "from pathlib import Path\n",
    "import os.path\n",
    "from sklearn.model_selection import train_test_split\n",
    "import tensorflow as tf\n",
    "from tensorflow import keras\n",
    "from tensorflow.keras import datasets, layers, models\n",
    "from tensorflow.keras.preprocessing.image import ImageDataGenerator\n",
    "from tensorflow.keras.models import Sequential\n",
    "from tensorflow.keras.optimizers import Adam\n",
    "from tensorflow.keras.layers import Activation, Dense, Flatten, BatchNormalization, Conv2D, MaxPool2D\n",
    "from sklearn.metrics import r2_score"
   ]
  },
  {
   "cell_type": "markdown",
   "id": "732b23ef",
   "metadata": {},
   "source": [
    "## Preparing the dataset of images for CNN"
   ]
  },
  {
   "cell_type": "code",
   "execution_count": 3,
   "id": "409e90cb",
   "metadata": {},
   "outputs": [],
   "source": [
    "imgFileLocation = pd.Series(name = 'image_paths', dtype = str)\n",
    "x_coordinates = pd.Series(name = 'x', dtype = float)\n",
    "y_coordinates = pd.Series(name = 'y', dtype = float)"
   ]
  },
  {
   "cell_type": "code",
   "execution_count": 4,
   "id": "5f3985ec",
   "metadata": {},
   "outputs": [
    {
     "name": "stdout",
     "output_type": "stream",
     "text": [
      "C:\\Users\\ratho\\Desktop\\CI\\Project_B_Data\\DATA\\fin_imgset\\*.png\n"
     ]
    }
   ],
   "source": [
    "####################----> creating a panda series containing the path names for all the images created.\n",
    "\n",
    "imfolder = r'<INSERT PATH HERE TO FOLDER WITH IMAGES>'\n",
    "folder = (os.path.join(imfolder,r'*.png'))\n",
    "print(folder)\n"
   ]
  },
  {
   "cell_type": "code",
   "execution_count": 5,
   "id": "dc85b168",
   "metadata": {},
   "outputs": [],
   "source": [
    "i = 0\n",
    "\n",
    "for name in glob.glob(folder):\n",
    "    fpath = name\n",
    "    \n",
    "    split_name = re.split(r\"\\\\\", name)\n",
    "    coords = re.split(\"_|\\.\", split_name[-1])\n",
    "    x = int(coords[0])\n",
    "    y = int(coords[1])\n",
    "    pos = [(x-175)/(325-175), (y-175)/(325-175)]\n",
    "    #print(pos[0])\n",
    "    \n",
    "    \n",
    "    x_coordinates.loc[i] = pos[0]\n",
    "    y_coordinates.loc[i] = pos[1]\n",
    "    imgFileLocation.loc[i] = fpath\n",
    "    i+=1"
   ]
  },
  {
   "cell_type": "code",
   "execution_count": 6,
   "id": "0328cb27",
   "metadata": {},
   "outputs": [],
   "source": [
    "images = pd.concat([imgFileLocation, x_coordinates, y_coordinates], axis = 1).sample(frac = 1.0, random_state = 1).reset_index(drop='True')\n",
    "train_df, test_df = train_test_split(images, train_size = 0.8, shuffle = True, random_state = 1)"
   ]
  },
  {
   "cell_type": "markdown",
   "id": "61f2fa1d",
   "metadata": {},
   "source": [
    "## Generating training, validation and test batches of our dataset using flow_from_dataframe"
   ]
  },
  {
   "cell_type": "code",
   "execution_count": 7,
   "id": "da0c1e2c",
   "metadata": {},
   "outputs": [],
   "source": [
    "train_generator = tf.keras.preprocessing.image.ImageDataGenerator(\n",
    "    rescale = 1./255,\n",
    "    validation_split = 0.2\n",
    ")\n",
    "\n",
    "test_generator = tf.keras.preprocessing.image.ImageDataGenerator(\n",
    "    rescale = 1./255\n",
    ")"
   ]
  },
  {
   "cell_type": "code",
   "execution_count": 8,
   "id": "0cfc73bf",
   "metadata": {},
   "outputs": [
    {
     "name": "stdout",
     "output_type": "stream",
     "text": [
      "Found 608 validated image filenames.\n",
      "Found 151 validated image filenames.\n",
      "Found 190 validated image filenames.\n"
     ]
    }
   ],
   "source": [
    "size  = (170, 134)\n",
    "inputshape = (170, 134, 1)\n",
    "train_images = train_generator.flow_from_dataframe(\n",
    "    dataframe = train_df,\n",
    "    x_col = 'image_paths',\n",
    "    y_col = ['x','y'],\n",
    "    target_size = size,\n",
    "    color_mode = 'grayscale',\n",
    "    class_mode = 'raw',\n",
    "    batch_size = 32,\n",
    "    shuffle = True,\n",
    "    seed = 42,\n",
    "    subset = 'training'\n",
    ")\n",
    "\n",
    "val_images = train_generator.flow_from_dataframe(\n",
    "    dataframe = train_df,\n",
    "    x_col = 'image_paths',\n",
    "    y_col = ['x','y'],\n",
    "    target_size = size,\n",
    "    color_mode = 'grayscale',\n",
    "    class_mode = 'raw',\n",
    "    batch_size = 32,\n",
    "    shuffle = True,\n",
    "    seed = 42,\n",
    "    subset = 'validation'\n",
    ")\n",
    "\n",
    "test_images = test_generator.flow_from_dataframe(\n",
    "    dataframe = test_df,\n",
    "    x_col = 'image_paths',\n",
    "    y_col = ['x','y'],\n",
    "    target_size = size,\n",
    "    color_mode = 'grayscale',\n",
    "    class_mode = 'raw',\n",
    "    batch_size = 32,\n",
    "    shuffle = True,\n",
    ")"
   ]
  },
  {
   "cell_type": "markdown",
   "id": "0c35649b",
   "metadata": {},
   "source": [
    "##  Tuning, filters, num_layers, dropout rate using Keras Tuner"
   ]
  },
  {
   "cell_type": "code",
   "execution_count": 34,
   "id": "9785e6f9",
   "metadata": {},
   "outputs": [],
   "source": [
    "def build_model4(hp):\n",
    "    model = keras.models.Sequential()\n",
    "    fls = hp.Int('filters', min_value=16, max_value=64, step=16)\n",
    "    dr = hp.Choice('dr_rate', values=[0.2, 0.3, 0.4, 0.5])\n",
    "    model.add(keras.layers.Conv2D(filters=fls, kernel_size=(3,3), activation = 'relu', padding='same', input_shape=inputshape)),\n",
    "    model.add(keras.layers.MaxPool2D(pool_size=(2,2),padding='same')),\n",
    "    model.add(keras.layers.Dropout(dr)),\n",
    "    \n",
    "    for i in range(hp.Int('layers',1,4)):\n",
    "        model.add(keras.layers.Conv2D(filters= fls*(i+1), kernel_size=(3,3), activation = 'relu', padding='same')),\n",
    "        model.add(keras.layers.MaxPool2D(pool_size=(2,2),padding='same')),\n",
    "        model.add(keras.layers.Dropout(dr)),\n",
    "        \n",
    "    model.add(keras.layers.Flatten()),\n",
    "    model.add(keras.layers.Dense(2, activation='linear')),\n",
    "    model.compile(optimizer= 'adam', loss='mean_squared_error', metrics=['mse'])\n",
    "              \n",
    "    return model"
   ]
  },
  {
   "cell_type": "code",
   "execution_count": 35,
   "id": "a9ddc173",
   "metadata": {},
   "outputs": [],
   "source": [
    "tuner = kt.RandomSearch(\n",
    "        build_model4,\n",
    "        objective='val_loss',\n",
    "        max_trials=10,\n",
    "        executions_per_trial=1,\n",
    "        directory='moreTuning'\n",
    ")"
   ]
  },
  {
   "cell_type": "code",
   "execution_count": 62,
   "id": "200e13a7",
   "metadata": {},
   "outputs": [
    {
     "name": "stdout",
     "output_type": "stream",
     "text": [
      "Search space summary\n",
      "Default search space size: 3\n",
      "filters (Int)\n",
      "{'default': None, 'conditions': [], 'min_value': 16, 'max_value': 64, 'step': 16, 'sampling': None}\n",
      "dr_rate (Choice)\n",
      "{'default': 0.2, 'conditions': [], 'values': [0.2, 0.3, 0.4, 0.5], 'ordered': True}\n",
      "layers (Int)\n",
      "{'default': None, 'conditions': [], 'min_value': 1, 'max_value': 4, 'step': 1, 'sampling': None}\n"
     ]
    }
   ],
   "source": [
    "tuner.search_space_summary()"
   ]
  },
  {
   "cell_type": "code",
   "execution_count": 37,
   "id": "896a0832",
   "metadata": {},
   "outputs": [],
   "source": [
    "es_cb = tf.keras.callbacks.EarlyStopping(monitor='val_loss', patience=5)"
   ]
  },
  {
   "cell_type": "code",
   "execution_count": 38,
   "id": "e1d52dd0",
   "metadata": {
    "scrolled": true
   },
   "outputs": [
    {
     "name": "stdout",
     "output_type": "stream",
     "text": [
      "Trial 10 Complete [00h 07m 38s]\n",
      "val_loss: 0.06517301499843597\n",
      "\n",
      "Best val_loss So Far: 0.03083711676299572\n",
      "Total elapsed time: 00h 39m 01s\n",
      "INFO:tensorflow:Oracle triggered exit\n"
     ]
    }
   ],
   "source": [
    "tuner.search(train_images, epochs=50, validation_data=val_images, callbacks=[es_cb])"
   ]
  },
  {
   "cell_type": "code",
   "execution_count": 63,
   "id": "f247ddc3",
   "metadata": {
    "scrolled": true
   },
   "outputs": [
    {
     "name": "stdout",
     "output_type": "stream",
     "text": [
      "Results summary\n",
      "Results in moreTuning\\untitled_project\n",
      "Showing 10 best trials\n",
      "Objective(name='val_loss', direction='min')\n",
      "Trial summary\n",
      "Hyperparameters:\n",
      "filters: 48\n",
      "dr_rate: 0.2\n",
      "layers: 2\n",
      "Score: 0.03083711676299572\n",
      "Trial summary\n",
      "Hyperparameters:\n",
      "filters: 48\n",
      "dr_rate: 0.2\n",
      "layers: 1\n",
      "Score: 0.039259087294340134\n",
      "Trial summary\n",
      "Hyperparameters:\n",
      "filters: 32\n",
      "dr_rate: 0.2\n",
      "layers: 2\n",
      "Score: 0.05867550149559975\n",
      "Trial summary\n",
      "Hyperparameters:\n",
      "filters: 16\n",
      "dr_rate: 0.4\n",
      "layers: 4\n",
      "Score: 0.06517301499843597\n",
      "Trial summary\n",
      "Hyperparameters:\n",
      "filters: 48\n",
      "dr_rate: 0.3\n",
      "layers: 1\n",
      "Score: 0.09688789397478104\n",
      "Trial summary\n",
      "Hyperparameters:\n",
      "filters: 48\n",
      "dr_rate: 0.5\n",
      "layers: 3\n",
      "Score: 0.14801546931266785\n",
      "Trial summary\n",
      "Hyperparameters:\n",
      "filters: 48\n",
      "dr_rate: 0.4\n",
      "layers: 1\n",
      "Score: 0.1488083451986313\n",
      "Trial summary\n",
      "Hyperparameters:\n",
      "filters: 16\n",
      "dr_rate: 0.3\n",
      "layers: 3\n",
      "Score: 0.15270166099071503\n",
      "Trial summary\n",
      "Hyperparameters:\n",
      "filters: 48\n",
      "dr_rate: 0.4\n",
      "layers: 4\n",
      "Score: 0.17267940938472748\n",
      "Trial summary\n",
      "Hyperparameters:\n",
      "filters: 32\n",
      "dr_rate: 0.4\n",
      "layers: 1\n",
      "Score: 0.255644828081131\n"
     ]
    }
   ],
   "source": [
    "tuner.results_summary()"
   ]
  },
  {
   "cell_type": "markdown",
   "id": "44625ac0",
   "metadata": {},
   "source": [
    "### Model Fitting with Best Parameters"
   ]
  },
  {
   "cell_type": "code",
   "execution_count": 64,
   "id": "b1cb565c",
   "metadata": {},
   "outputs": [],
   "source": [
    "best_hps=tuner.get_best_hyperparameters(num_trials=1)[0]\n",
    "model=tuner.hypermodel.build(best_hps)"
   ]
  },
  {
   "cell_type": "code",
   "execution_count": 65,
   "id": "09b00fed",
   "metadata": {
    "scrolled": true
   },
   "outputs": [
    {
     "name": "stdout",
     "output_type": "stream",
     "text": [
      "Model: \"sequential_3\"\n",
      "_________________________________________________________________\n",
      " Layer (type)                Output Shape              Param #   \n",
      "=================================================================\n",
      " conv2d_11 (Conv2D)          (None, 170, 134, 48)      480       \n",
      "                                                                 \n",
      " max_pooling2d_11 (MaxPoolin  (None, 85, 67, 48)       0         \n",
      " g2D)                                                            \n",
      "                                                                 \n",
      " dropout_11 (Dropout)        (None, 85, 67, 48)        0         \n",
      "                                                                 \n",
      " conv2d_12 (Conv2D)          (None, 85, 67, 48)        20784     \n",
      "                                                                 \n",
      " max_pooling2d_12 (MaxPoolin  (None, 43, 34, 48)       0         \n",
      " g2D)                                                            \n",
      "                                                                 \n",
      " dropout_12 (Dropout)        (None, 43, 34, 48)        0         \n",
      "                                                                 \n",
      " conv2d_13 (Conv2D)          (None, 43, 34, 96)        41568     \n",
      "                                                                 \n",
      " max_pooling2d_13 (MaxPoolin  (None, 22, 17, 96)       0         \n",
      " g2D)                                                            \n",
      "                                                                 \n",
      " dropout_13 (Dropout)        (None, 22, 17, 96)        0         \n",
      "                                                                 \n",
      " flatten_3 (Flatten)         (None, 35904)             0         \n",
      "                                                                 \n",
      " dense_3 (Dense)             (None, 2)                 71810     \n",
      "                                                                 \n",
      "=================================================================\n",
      "Total params: 134,642\n",
      "Trainable params: 134,642\n",
      "Non-trainable params: 0\n",
      "_________________________________________________________________\n"
     ]
    }
   ],
   "source": [
    "model.summary()"
   ]
  },
  {
   "cell_type": "code",
   "execution_count": 66,
   "id": "fa062853",
   "metadata": {},
   "outputs": [],
   "source": [
    "es_cb = tf.keras.callbacks.EarlyStopping(monitor='val_loss', patience=5)\n",
    "tb_cb = tf.keras.callbacks.TensorBoard(log_dir=\"logs45/\", histogram_freq=1)"
   ]
  },
  {
   "cell_type": "code",
   "execution_count": 67,
   "id": "b5780146",
   "metadata": {},
   "outputs": [
    {
     "name": "stdout",
     "output_type": "stream",
     "text": [
      "Epoch 1/100\n",
      "19/19 [==============================] - 24s 1s/step - loss: 0.3591 - mse: 0.3591 - val_loss: 0.1982 - val_mse: 0.1982\n",
      "Epoch 2/100\n",
      "19/19 [==============================] - 18s 958ms/step - loss: 0.1022 - mse: 0.1022 - val_loss: 0.1503 - val_mse: 0.1503\n",
      "Epoch 3/100\n",
      "19/19 [==============================] - 18s 954ms/step - loss: 0.0885 - mse: 0.0885 - val_loss: 0.1296 - val_mse: 0.1296\n",
      "Epoch 4/100\n",
      "19/19 [==============================] - 18s 964ms/step - loss: 0.0690 - mse: 0.0690 - val_loss: 0.0910 - val_mse: 0.0910\n",
      "Epoch 5/100\n",
      "19/19 [==============================] - 19s 991ms/step - loss: 0.0356 - mse: 0.0356 - val_loss: 0.0550 - val_mse: 0.0550\n",
      "Epoch 6/100\n",
      "19/19 [==============================] - 18s 969ms/step - loss: 0.0194 - mse: 0.0194 - val_loss: 0.0414 - val_mse: 0.0414\n",
      "Epoch 7/100\n",
      "19/19 [==============================] - 19s 994ms/step - loss: 0.0125 - mse: 0.0125 - val_loss: 0.0314 - val_mse: 0.0314\n",
      "Epoch 8/100\n",
      "19/19 [==============================] - 19s 990ms/step - loss: 0.0087 - mse: 0.0087 - val_loss: 0.0454 - val_mse: 0.0454\n",
      "Epoch 9/100\n",
      "19/19 [==============================] - 18s 961ms/step - loss: 0.0062 - mse: 0.0062 - val_loss: 0.0374 - val_mse: 0.0374\n",
      "Epoch 10/100\n",
      "19/19 [==============================] - 18s 961ms/step - loss: 0.0053 - mse: 0.0053 - val_loss: 0.0290 - val_mse: 0.0290\n",
      "Epoch 11/100\n",
      "19/19 [==============================] - 18s 967ms/step - loss: 0.0050 - mse: 0.0050 - val_loss: 0.0536 - val_mse: 0.0536\n",
      "Epoch 12/100\n",
      "19/19 [==============================] - 18s 965ms/step - loss: 0.0051 - mse: 0.0051 - val_loss: 0.0404 - val_mse: 0.0404\n",
      "Epoch 13/100\n",
      "19/19 [==============================] - 19s 981ms/step - loss: 0.0046 - mse: 0.0046 - val_loss: 0.0360 - val_mse: 0.0360\n",
      "Epoch 14/100\n",
      "19/19 [==============================] - 19s 985ms/step - loss: 0.0048 - mse: 0.0048 - val_loss: 0.0357 - val_mse: 0.0357\n",
      "Epoch 15/100\n",
      "19/19 [==============================] - 20s 1s/step - loss: 0.0037 - mse: 0.0037 - val_loss: 0.0321 - val_mse: 0.0321\n"
     ]
    }
   ],
   "source": [
    "history = model.fit(train_images, epochs=100, validation_data=val_images, callbacks = [es_cb, tb_cb])"
   ]
  },
  {
   "cell_type": "code",
   "execution_count": 70,
   "id": "808d1ab0",
   "metadata": {},
   "outputs": [
    {
     "data": {
      "text/plain": [
       "<matplotlib.legend.Legend at 0x1a58cb7ab50>"
      ]
     },
     "execution_count": 70,
     "metadata": {},
     "output_type": "execute_result"
    },
    {
     "data": {
      "image/png": "[encoded data removed]",
      "text/plain": [
       "<Figure size 432x288 with 1 Axes>"
      ]
     },
     "metadata": {
      "needs_background": "light"
     },
     "output_type": "display_data"
    }
   ],
   "source": [
    "plt.plot(history.history['loss'], label='loss')\n",
    "plt.plot(history.history['val_loss'], label = 'val_loss')\n",
    "plt.xlabel('Epoch')\n",
    "plt.ylabel('loss')\n",
    "plt.ylim([0.0, 1])\n",
    "plt.legend(loc='upper right')"
   ]
  },
  {
   "cell_type": "code",
   "execution_count": 71,
   "id": "854b58ee",
   "metadata": {},
   "outputs": [
    {
     "data": {
      "text/html": [
       "\n",
       "      <iframe id=\"tensorboard-frame-575ec88233e5df3b\" width=\"100%\" height=\"800\" frameborder=\"0\">\n",
       "      </iframe>\n",
       "      <script>\n",
       "        (function() {\n",
       "          const frame = document.getElementById(\"tensorboard-frame-575ec88233e5df3b\");\n",
       "          const url = new URL(\"/\", window.location);\n",
       "          const port = 6006;\n",
       "          if (port) {\n",
       "            url.port = port;\n",
       "          }\n",
       "          frame.src = url;\n",
       "        })();\n",
       "      </script>\n",
       "    "
      ],
      "text/plain": [
       "<IPython.core.display.HTML object>"
      ]
     },
     "metadata": {},
     "output_type": "display_data"
    }
   ],
   "source": [
    "%load_ext tensorboard\n",
    "\n",
    "%tensorboard --logdir logs45\\fit"
   ]
  },
  {
   "cell_type": "code",
   "execution_count": 77,
   "id": "eaae3484",
   "metadata": {},
   "outputs": [
    {
     "name": "stdout",
     "output_type": "stream",
     "text": [
      "Test R^2 Score: -0.78736\n"
     ]
    }
   ],
   "source": [
    "pred_coordi = np.squeeze(model.predict(val_images))\n",
    "true_coordi = val_images.labels\n",
    "\n",
    "r2 = r2_score(true_coordi, pred_coordi)\n",
    "print(\"Test R^2 Score: {:.5f}\".format(r2))"
   ]
  },
  {
   "cell_type": "markdown",
   "id": "a3d871a8",
   "metadata": {},
   "source": [
    "### Finding Runtime"
   ]
  },
  {
   "cell_type": "code",
   "execution_count": null,
   "id": "78a8c3fe",
   "metadata": {},
   "outputs": [],
   "source": [
    "import time\n"
   ]
  },
  {
   "cell_type": "code",
   "execution_count": null,
   "id": "92fa731c",
   "metadata": {},
   "outputs": [],
   "source": [
    "start = time.time()\n",
    "model.fit() # Training statement\n",
    "print(\"Total time: \", time.time() - start, \"seconds\")"
   ]
  }
 ],
 "metadata": {
  "kernelspec": {
   "display_name": "Python 3 (ipykernel)",
   "language": "python",
   "name": "python3"
  },
  "language_info": {
   "codemirror_mode": {
    "name": "ipython",
    "version": 3
   },
   "file_extension": ".py",
   "mimetype": "text/x-python",
   "name": "python",
   "nbconvert_exporter": "python",
   "pygments_lexer": "ipython3",
   "version": "3.8.10"
  }
 },
 "nbformat": 4,
 "nbformat_minor": 5
}
